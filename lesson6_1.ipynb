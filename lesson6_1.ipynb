{
 "cells": [
  {
   "cell_type": "code",
   "execution_count": null,
   "metadata": {},
   "outputs": [],
   "source": [
    "height = eval(input(\"請輸入身高,單位為(公分):\"))\n",
    "weight = eval(input('請輸入體重,單位為(公斤):'))\n",
    "\n",
    "bmi = weight / (height/100) ** 2\n",
    "message = \"\"\n",
    "print(f\"您的BMI:{bmi:.2f}\")\n",
    "print(f\"提示:{message}\")\n",
    "\n",
    "\n",
    "if bmi<1805:\n",
    "    message=\"過輕\"\n",
    "elif bmi<24:\n",
    "    message=\"正常\"\n",
    "elif bmi<27:\n",
    "    message=\"過重\"\n",
    "elif bmi<30:\n",
    "    message=\"輕度肥胖\"\n",
    "elif bmi<35:\n",
    "    message=\"中度肥胖\"\n",
    "else:\n",
    "    message=\"重度肥胖\"\n",
    "\n",
    "print(f\"提示:{message}\")"
   ]
  },
  {
   "cell_type": "code",
   "execution_count": null,
   "metadata": {},
   "outputs": [],
   "source": [
    "height = eval(input(\"請輸入身高,單位為(公分):\"))\n",
    "weight = eval(input('請輸入體重,單位為(公斤):'))\n",
    "\n",
    "bmi = weight / (height/100) ** 2\n",
    "message = \"\"\n",
    "print(f\"您的BMI:{bmi:.2f}\")\n",
    "\n",
    "if bmi >= 18.5 and bmi< 24:\n",
    "    message = \"正常\"\n",
    "elif bmi <= 24 and bmi < 27:\n",
    "    message = \"過重\"\n",
    "elif bmi >= 30 and bmi <35:\n",
    "    message = \"中度肥胖\"\n",
    "elif bmi >= 35:\n",
    "    message = \"重度肥胖\"\n",
    "elif bmi < 18.5:\n",
    "    message = \"體重過輕\"\n",
    "elif bmi >= 27 and bmi < 30:\n",
    "    message = \"輕度肥胖\"\n",
    "\n",
    "      \n",
    "print(f\"提示:{message}\")"
   ]
  },
  {
   "cell_type": "code",
   "execution_count": null,
   "metadata": {},
   "outputs": [],
   "source": [
    "height = eval(input(\"請輸入身高,單位為(公分):\"))\n",
    "weight = eval(input('請輸入體重,單位為(公斤):'))\n",
    "\n",
    "bmi = weight / (height/100) ** 2\n",
    "message = \"\"\n",
    "print(f\"您的BMI:{bmi:.2f}\")\n",
    "\n",
    "if 18.5 <= bmi < 24:\n",
    "    message = \"正常\"\n",
    "elif 24 <=  bmi < 27:\n",
    "    message = \"過重\"\n",
    "elif 30 <= bmi <35:\n",
    "    message = \"中度肥胖\"\n",
    "elif bmi >= 35:\n",
    "    message = \"重度肥胖\"\n",
    "elif bmi < 18.5:\n",
    "    message = \"體重過輕\"\n",
    "elif 27 <= bmi < 30:\n",
    "    message = \"輕度肥胖\"\n",
    "\n",
    "      \n",
    "print(f\"提示:{message}\")"
   ]
  },
  {
   "cell_type": "code",
   "execution_count": null,
   "metadata": {},
   "outputs": [],
   "source": []
  }
 ],
 "metadata": {
  "language_info": {
   "name": "python"
  },
  "orig_nbformat": 4
 },
 "nbformat": 4,
 "nbformat_minor": 2
}
